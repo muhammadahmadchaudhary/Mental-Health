{
 "cells": [
  {
   "cell_type": "code",
   "execution_count": 10,
   "id": "88e2b06e-996c-4362-8309-fed4fc518ecb",
   "metadata": {},
   "outputs": [],
   "source": [
    "import pandas as pd\n",
    "import numpy as np \n",
    "import seaborn as sns\n",
    "from tensorflow.keras.callbacks import EarlyStopping\n",
    "from tensorflow.keras.optimizers import Adam\n",
    "from keras.models import Sequential\n",
    "from tensorflow.keras.losses import BinaryCrossentropy\n",
    "from tensorflow.keras.layers import Dense, Dropout, Input\n",
    "from sklearn.metrics import confusion_matrix, classification_report\n",
    "import seaborn as sns\n",
    "from sklearn.model_selection import KFold\n",
    "import tensorflow as tf\n",
    "from sklearn.utils.class_weight import compute_class_weight\n",
    "from tensorflow.keras.models import load_model"
   ]
  },
  {
   "cell_type": "code",
   "execution_count": 11,
   "id": "f0db8a51-e9c6-4f0c-b191-776923e3cc56",
   "metadata": {},
   "outputs": [
    {
     "name": "stderr",
     "output_type": "stream",
     "text": [
      "WARNING:absl:Compiled the loaded model, but the compiled metrics have yet to be built. `model.compile_metrics` will be empty until you train or evaluate the model.\n"
     ]
    }
   ],
   "source": [
    "model = load_model('mental_health_model.h5')\n",
    "\n",
    "# Min and max values for scaling\n",
    "min_max_values = {\n",
    "    'GEN_005': (0, 5),\n",
    "    'GEN_015': (0, 5),\n",
    "    'GEN_020': (0, 5),\n",
    "    'GEN_025': (0, 5),\n",
    "    'GENDVHDI': (0, 5),\n",
    "    'GEN_010': (0, 10),\n",
    "    'GEN_030': (0, 5),\n",
    "    'ALC_015': (0, 10),\n",
    "    'ALC_020': (0, 10),\n",
    "    'ALW_005': (0, 10),\n",
    "    'ALWDVWKY': (0, 1000),\n",
    "    'ALWDVDLY': (0, 1000),\n",
    "    'ALWDVLTR': (0, 10),\n",
    "    'ALWDVSTR': (0, 10),\n",
    "    'DRGDVYA': (0, 10),\n",
    "    'DHH_SEX': (1, 2),\n",
    "    'DHHGAGE': (1, 5),\n",
    "    'DHHGMS': (1, 5),\n",
    "    'DHHDGHSZ': (1, 10),\n",
    "    'DOALW': (0, 10)\n",
    "}"
   ]
  },
  {
   "cell_type": "code",
   "execution_count": 12,
   "id": "3d7cb017-21b2-4e1f-8bd7-822eecfa9033",
   "metadata": {},
   "outputs": [],
   "source": [
    "def normalize_input(input_data, min_max_values):\n",
    "    normalized_data = {}\n",
    "    for feature, value in input_data.items():\n",
    "        min_val, max_val = min_max_values[feature]\n",
    "        normalized_data[feature] = (value - min_val) / (max_val - min_val)\n",
    "    return normalized_data"
   ]
  },
  {
   "cell_type": "code",
   "execution_count": 13,
   "id": "25f85396-19e7-42c6-9d2a-886632ddd978",
   "metadata": {},
   "outputs": [],
   "source": [
    "# Function to map the predicted value to the corresponding category\n",
    "def map_prediction_to_category(prediction):\n",
    "    categories = {\n",
    "        0: 'Poor',\n",
    "        1: 'Fair',\n",
    "        2: 'Good',\n",
    "        3: 'Very good',\n",
    "        4: 'Excellent',\n",
    "        9: 'Not stated'\n",
    "    }\n",
    "    # Find the index of the maximum value in the prediction\n",
    "    max_index = prediction.argmax()\n",
    "    return categories.get(max_index, 'Unknown')"
   ]
  },
  {
   "cell_type": "code",
   "execution_count": 15,
   "id": "ac1f8a94-d56d-4a87-bea8-4b39faabef24",
   "metadata": {},
   "outputs": [
    {
     "name": "stdin",
     "output_type": "stream",
     "text": [
      "Enter GEN_005:  1\n",
      "Enter GEN_015:  1\n",
      "Enter GEN_020:  1\n",
      "Enter GEN_025:  1\n",
      "Enter GENDVHDI:  1\n",
      "Enter GEN_010:  1\n",
      "Enter GEN_030:  1\n",
      "Enter ALC_015:  1\n",
      "Enter ALC_020:  1\n",
      "Enter ALW_005:  1\n",
      "Enter ALWDVWKY:  1\n",
      "Enter ALWDVDLY:  1\n",
      "Enter ALWDVLTR:  1\n",
      "Enter ALWDVSTR:  1\n",
      "Enter DRGDVYA:  1\n",
      "Enter DHH_SEX:  1\n",
      "Enter DHHGAGE:  1\n",
      "Enter DHHGMS:  1\n",
      "Enter DHHDGHSZ:  1\n",
      "Enter DOALW:  1\n"
     ]
    },
    {
     "name": "stdout",
     "output_type": "stream",
     "text": [
      "\u001b[1m1/1\u001b[0m \u001b[32m━━━━━━━━━━━━━━━━━━━━\u001b[0m\u001b[37m\u001b[0m \u001b[1m0s\u001b[0m 118ms/step\n",
      "Predicted GENDVMHI: Very good\n"
     ]
    }
   ],
   "source": [
    "# Function to take input data and make predictions\n",
    "def predict_mental_health(input_data):\n",
    "    # Normalize the input data\n",
    "    normalized_data = normalize_input(input_data, min_max_values)\n",
    "    \n",
    "    # Ensure the input data is in the correct format\n",
    "    input_df = pd.DataFrame(normalized_data, index=[0])\n",
    "    \n",
    "    # Use the loaded model to make predictions\n",
    "    prediction = model.predict(input_df)\n",
    "    \n",
    "    return prediction\n",
    "\n",
    "# Function to get user input for all features\n",
    "def get_user_input():\n",
    "    user_input = {}\n",
    "    user_input['GEN_005'] = float(input('Enter GEN_005: '))\n",
    "    user_input['GEN_015'] = float(input('Enter GEN_015: '))\n",
    "    user_input['GEN_020'] = float(input('Enter GEN_020: '))\n",
    "    user_input['GEN_025'] = float(input('Enter GEN_025: '))\n",
    "    user_input['GENDVHDI'] = float(input('Enter GENDVHDI: '))\n",
    "    user_input['GEN_010'] = float(input('Enter GEN_010: '))\n",
    "    user_input['GEN_030'] = float(input('Enter GEN_030: '))\n",
    "    user_input['ALC_015'] = float(input('Enter ALC_015: '))\n",
    "    user_input['ALC_020'] = float(input('Enter ALC_020: '))\n",
    "    user_input['ALW_005'] = float(input('Enter ALW_005: '))\n",
    "    user_input['ALWDVWKY'] = float(input('Enter ALWDVWKY: '))\n",
    "    user_input['ALWDVDLY'] = float(input('Enter ALWDVDLY: '))\n",
    "    user_input['ALWDVLTR'] = float(input('Enter ALWDVLTR: '))\n",
    "    user_input['ALWDVSTR'] = float(input('Enter ALWDVSTR: '))\n",
    "    user_input['DRGDVYA'] = float(input('Enter DRGDVYA: '))\n",
    "    user_input['DHH_SEX'] = float(input('Enter DHH_SEX: '))\n",
    "    user_input['DHHGAGE'] = float(input('Enter DHHGAGE: '))\n",
    "    user_input['DHHGMS'] = float(input('Enter DHHGMS: '))\n",
    "    user_input['DHHDGHSZ'] = float(input('Enter DHHDGHSZ: '))\n",
    "    user_input['DOALW'] = float(input('Enter DOALW: '))  \n",
    "    return user_input\n",
    "\n",
    "# Get user input\n",
    "user_input = get_user_input()\n",
    "\n",
    "# Make a prediction\n",
    "prediction = predict_mental_health(user_input)\n",
    "\n",
    "# Assuming GENDVMHI is the first output, extract the first element from the prediction\n",
    "gendvmhi_category = map_prediction_to_category(prediction[0])\n",
    "print(f'Predicted GENDVMHI: {gendvmhi_category}')"
   ]
  }
 ],
 "metadata": {
  "kernelspec": {
   "display_name": "Python 3 (ipykernel)",
   "language": "python",
   "name": "python3"
  },
  "language_info": {
   "codemirror_mode": {
    "name": "ipython",
    "version": 3
   },
   "file_extension": ".py",
   "mimetype": "text/x-python",
   "name": "python",
   "nbconvert_exporter": "python",
   "pygments_lexer": "ipython3",
   "version": "3.12.2"
  }
 },
 "nbformat": 4,
 "nbformat_minor": 5
}
